{
 "cells": [
  {
   "cell_type": "code",
   "execution_count": null,
   "metadata": {},
   "outputs": [],
   "source": []
  },
  {
   "cell_type": "markdown",
   "metadata": {},
   "source": [
    "## Optional exercise (if time permits)\n",
    "\n",
    "Reproduce the point analysis above with a different dataset of your choice. This involves:\n",
    "\n",
    "* Obtain the data.\n",
    "* Load the data in a notebook.\n",
    "* If you can find a suitable polygon layer to which aggregate the points:\n",
    "    * Perform a spatial join using QGIS.\n",
    "    * Aggregate points into the polygon geography by obtaining counts of points per polygon.\n",
    "    * Create a raw count choropleth.\n",
    "    * If you have a potential measure of the underlying population, create the ratios and generate a new choropleth.\n",
    "* Create a Hex binning map of the points.\n",
    "* Compute and display a kernel density estimate (KDE) of the distribution of the points.\n",
    "* Obtain clusters using `DBSCAN`.\n",
    "\n",
    "As a suggestion, you can use the following additional datasets:\n",
    "\n",
    "* **Geotagged Flickr photos** extracted from the [100m Flickr dataset](https://webscope.sandbox.yahoo.com/catalog.php?datatype=i&did=67) from [this link](data/liverpool_flickr.csv.zip). Note this is a `zip` compressed `csv` file, but you can read it directly into the notebook with pandas:"
   ]
  },
  {
   "cell_type": "code",
   "execution_count": 31,
   "metadata": {},
   "outputs": [
    {
     "data": {
      "text/html": [
       "<div>\n",
       "<style scoped>\n",
       "    .dataframe tbody tr th:only-of-type {\n",
       "        vertical-align: middle;\n",
       "    }\n",
       "\n",
       "    .dataframe tbody tr th {\n",
       "        vertical-align: top;\n",
       "    }\n",
       "\n",
       "    .dataframe thead th {\n",
       "        text-align: right;\n",
       "    }\n",
       "</style>\n",
       "<table border=\"1\" class=\"dataframe\">\n",
       "  <thead>\n",
       "    <tr style=\"text-align: right;\">\n",
       "      <th></th>\n",
       "      <th>user_id</th>\n",
       "      <th>longitude</th>\n",
       "      <th>latitude</th>\n",
       "      <th>date_taken</th>\n",
       "      <th>photo/video_page_url</th>\n",
       "    </tr>\n",
       "  </thead>\n",
       "  <tbody>\n",
       "    <tr>\n",
       "      <th>0</th>\n",
       "      <td>16956705@N05</td>\n",
       "      <td>-2.961995</td>\n",
       "      <td>53.430529</td>\n",
       "      <td>2014-04-21 14:00:18.0</td>\n",
       "      <td>http://www.flickr.com/photos/16956705@N05/1395...</td>\n",
       "    </tr>\n",
       "    <tr>\n",
       "      <th>1</th>\n",
       "      <td>16918136@N02</td>\n",
       "      <td>-2.966823</td>\n",
       "      <td>53.400730</td>\n",
       "      <td>2007-11-10 18:53:35.0</td>\n",
       "      <td>http://www.flickr.com/photos/16918136@N02/1955...</td>\n",
       "    </tr>\n",
       "    <tr>\n",
       "      <th>2</th>\n",
       "      <td>39415781@N06</td>\n",
       "      <td>-2.993280</td>\n",
       "      <td>53.401261</td>\n",
       "      <td>2013-10-20 13:27:38.0</td>\n",
       "      <td>http://www.flickr.com/photos/39415781@N06/1058...</td>\n",
       "    </tr>\n",
       "    <tr>\n",
       "      <th>3</th>\n",
       "      <td>7338715@N06</td>\n",
       "      <td>-3.001853</td>\n",
       "      <td>53.414966</td>\n",
       "      <td>2008-02-17 09:43:20.0</td>\n",
       "      <td>http://www.flickr.com/photos/7338715@N06/25386...</td>\n",
       "    </tr>\n",
       "    <tr>\n",
       "      <th>4</th>\n",
       "      <td>40024218@N02</td>\n",
       "      <td>-2.990276</td>\n",
       "      <td>53.395849</td>\n",
       "      <td>2010-05-12 16:01:11.0</td>\n",
       "      <td>http://www.flickr.com/photos/40024218@N02/4624...</td>\n",
       "    </tr>\n",
       "  </tbody>\n",
       "</table>\n",
       "</div>"
      ],
      "text/plain": [
       "        user_id  longitude   latitude             date_taken  \\\n",
       "0  16956705@N05  -2.961995  53.430529  2014-04-21 14:00:18.0   \n",
       "1  16918136@N02  -2.966823  53.400730  2007-11-10 18:53:35.0   \n",
       "2  39415781@N06  -2.993280  53.401261  2013-10-20 13:27:38.0   \n",
       "3   7338715@N06  -3.001853  53.414966  2008-02-17 09:43:20.0   \n",
       "4  40024218@N02  -2.990276  53.395849  2010-05-12 16:01:11.0   \n",
       "\n",
       "                                photo/video_page_url  \n",
       "0  http://www.flickr.com/photos/16956705@N05/1395...  \n",
       "1  http://www.flickr.com/photos/16918136@N02/1955...  \n",
       "2  http://www.flickr.com/photos/39415781@N06/1058...  \n",
       "3  http://www.flickr.com/photos/7338715@N06/25386...  \n",
       "4  http://www.flickr.com/photos/40024218@N02/4624...  "
      ]
     },
     "execution_count": 31,
     "metadata": {},
     "output_type": "execute_result"
    }
   ],
   "source": [
    "# IMPORTANT: please change paths appropriately depending on \n",
    "# where you download the file\n",
    "flickr = pd.read_csv('data/liverpool_flickr.csv.zip')\n",
    "flickr.head()"
   ]
  },
  {
   "cell_type": "markdown",
   "metadata": {},
   "source": [
    "* **House transactions** originally provided by the Land Registry.\n",
    "    * Download a sample for Liverpool from [this link](data/house_transactions.zip).\n",
    "    * Note that this is really a *marked* point pattern although you will be looking at it as if it was an *unmarked* point pattern. Think of the implications of this in terms of what you can learn about it.\n",
    "* **Crime data** from [`data.police.uk`](https://data.police.uk/data/).\n",
    "    * Select the date range you want to download data for.\n",
    "    * Choose the Police force you want to analyze (for Liverpool, it will be Merseyside. Note this includes an area larger than the municipality).\n",
    "    * Note that this is a `csv` file, not a shapefile. Use skills learnt in Lab 2 to be able to read it. You can plot the points in the original Coordinate System (lon/lat).\n",
    "    * Bonus if you figure out how to covert the `DataFrame` into a `GeoDataFrame` and reproject it to the UK grid (`EPSG:27700`). Note this is fairly advanced, so do not despair if you do not get there. A alternative is to read the `csv` file in QGIS and save if as a shapefile there, to be read in Python later on."
   ]
  }
 ],
 "metadata": {
  "kernelspec": {
   "display_name": "Python 3",
   "language": "python",
   "name": "python3"
  },
  "language_info": {
   "codemirror_mode": {
    "name": "ipython",
    "version": 3
   },
   "file_extension": ".py",
   "mimetype": "text/x-python",
   "name": "python",
   "nbconvert_exporter": "python",
   "pygments_lexer": "ipython3",
   "version": "3.7.8"
  }
 },
 "nbformat": 4,
 "nbformat_minor": 4
}

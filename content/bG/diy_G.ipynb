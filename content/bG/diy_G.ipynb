{
 "cells": [
  {
   "cell_type": "markdown",
   "metadata": {},
   "source": [
    "# Do-It-Yourself"
   ]
  },
  {
   "cell_type": "code",
   "execution_count": 3,
   "metadata": {},
   "outputs": [],
   "source": [
    "import geopandas"
   ]
  },
  {
   "cell_type": "markdown",
   "metadata": {},
   "source": [
    "## Task I: NYC Geodemographics\n",
    "\n",
    "We are going to try to get at the (geographic) essence of New York City. For that, we will rely on the same set up Census tracts for New York City we used {ref}`a few blocks ago <diy_E:tracts>`. Once you have the `nyc` object loaded, create a geodemographic classification using the following variables:\n",
    "\n",
    "- `european`: Total Population White\n",
    "- `asian`: Total Population Asian American\n",
    "- `american`: Total Population American Indian\n",
    "- `african`: Total Population African American\n",
    "- `hispanic`: Total Population Hispanic\n",
    "- `mixed`: Total Population Mixed race\n",
    "- `pacific`: Total Population Pacific Islander\n",
    "\n",
    "For this, make sure you standardise the table by the size of each tract. That is, compute a column with the total population as the sum of all the ethnic groups and divide each of them by that column. This way, the values will range between 0 (no population of a given ethnic group) and 1 (all the population in the tract is of that group).\n",
    "\n",
    "Once this is ready, get to work with the following tasks:\n",
    "\n",
    "1. Pick a number of clusters (e.g. 10)\n",
    "1. Run K-Means for that number of clusters\n",
    "1. Plot the different clusters on a map\n",
    "1. Analyse the results: \n",
    "    - *What do you find?*\n",
    "    - *What are the main characteristics of each cluster?*\n",
    "    - *How are clusters distributed geographically?*\n",
    "    - *Can you identify some groups concentrated on particular areas (e.g. China Town, Little Italy)?*"
   ]
  },
  {
   "cell_type": "markdown",
   "metadata": {},
   "source": [
    "## Task II: Regionalisation"
   ]
  }
 ],
 "metadata": {
  "kernelspec": {
   "display_name": "Python 3",
   "language": "python",
   "name": "python3"
  },
  "language_info": {
   "codemirror_mode": {
    "name": "ipython",
    "version": 3
   },
   "file_extension": ".py",
   "mimetype": "text/x-python",
   "name": "python",
   "nbconvert_exporter": "python",
   "pygments_lexer": "ipython3",
   "version": "3.7.8"
  }
 },
 "nbformat": 4,
 "nbformat_minor": 4
}

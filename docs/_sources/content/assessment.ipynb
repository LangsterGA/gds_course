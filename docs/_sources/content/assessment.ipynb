{
 "cells": [
  {
   "cell_type": "markdown",
   "metadata": {},
   "source": [
    "## Assessment\n",
    "\n",
    "This course is assessed through four components, each with different weight.\n",
    "\n",
    "### Teams contribution (5%)\n",
    "\n",
    "* Type: `Coursework`\n",
    "* Continuous assessment\n",
    "* 5% of the final mark\n",
    "* Electronic submission only.\n",
    "\n",
    "Students are encouraged to contribute to the online discussion forum set up for the module. The contribution to the discussion forum is assessed as an all-or-nothing 5% of the mark that can be obtained by contributing *meaninfully* to the online discussion board setup for the course **before the end of the first month of the course**. *Meaningful* contributions include both questions and answers that demonstrate the student is committed to make the forum a more useful resource for the rest of the group.\n",
    "\n",
    "\n",
    "### Test I (20%)\n",
    "\n",
    "More information to be announced soon.\n",
    "\n",
    "### Test II (25%)\n",
    "\n",
    "More information to be announced soon.\n",
    "\n",
    "(computational_essay)=\n",
    "### Computational essay (50%)\n",
    "\n",
    "More information to be announced soon.\n"
   ]
  }
 ],
 "metadata": {
  "kernelspec": {
   "display_name": "Python 3",
   "language": "python",
   "name": "python3"
  },
  "language_info": {
   "codemirror_mode": {
    "name": "ipython",
    "version": 3
   },
   "file_extension": ".py",
   "mimetype": "text/x-python",
   "name": "python",
   "nbconvert_exporter": "python",
   "pygments_lexer": "ipython3",
   "version": "3.7.8"
  }
 },
 "nbformat": 4,
 "nbformat_minor": 4
}
